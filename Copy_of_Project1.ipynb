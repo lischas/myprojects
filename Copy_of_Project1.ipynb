{
  "nbformat": 4,
  "nbformat_minor": 0,
  "metadata": {
    "colab": {
      "name": "Copy of Project1.ipynb",
      "provenance": [],
      "collapsed_sections": [],
      "authorship_tag": "ABX9TyOfU3U09NCUd0MaUjswVGkP",
      "include_colab_link": true
    },
    "kernelspec": {
      "name": "python3",
      "display_name": "Python 3"
    },
    "language_info": {
      "name": "python"
    }
  },
  "cells": [
    {
      "cell_type": "markdown",
      "metadata": {
        "id": "view-in-github",
        "colab_type": "text"
      },
      "source": [
        "<a href=\"https://colab.research.google.com/github/lischas/project1/blob/main/Copy_of_Project1.ipynb\" target=\"_parent\"><img src=\"https://colab.research.google.com/assets/colab-badge.svg\" alt=\"Open In Colab\"/></a>"
      ]
    },
    {
      "cell_type": "markdown",
      "metadata": {
        "id": "CWwE76wjJl-N"
      },
      "source": [
        "Program 1\n",
        "\n",
        "Lisa Haslett\n",
        "\n",
        "CPSMA 3913\n",
        "\n",
        "Dr. Nicholas Jacob  "
      ]
    },
    {
      "cell_type": "code",
      "metadata": {
        "id": "pXtm5h3NCnqn"
      },
      "source": [
        "A = ['Dog','Cat','Bird','Rabbit','Duck']\n",
        "B = ['Charlie','Cheshire','Tweety','Peter','Duck']\n",
        "C = ['House','Cat','Sky','Burrow','Pond']\n",
        "\n",
        "E = ['Charlie','Black','Blue','Brown','Yellow']\n",
        "\n",
        "Setofsets = [A,B,C,E]\n",
        "U = []\n",
        "for sett in Setofsets:\n",
        "  for character in sett:\n",
        "    U.append(character)\n",
        "\n",
        "set(U)\n"
      ],
      "execution_count": null,
      "outputs": []
    },
    {
      "cell_type": "code",
      "metadata": {
        "id": "SrNLr-lYqY_Q"
      },
      "source": [
        "AUB = []\n",
        "for character in A:\n",
        "  AUB.append(character) #Add all characters from A\n",
        "for character in B:\n",
        "  AUB.append(character) #Add all characters from B\n",
        "\n",
        "AUB = set(AUB) #change the list to a set removes duplicates and alphabetize\n",
        "\n",
        "AUB "
      ],
      "execution_count": null,
      "outputs": []
    },
    {
      "cell_type": "code",
      "metadata": {
        "id": "KK3NChjSxfda"
      },
      "source": [
        "AUC = []\n",
        "for character in A:\n",
        "  AUC.append(character) #Add all characters from A\n",
        "for character in C:\n",
        "  AUC.append(character) #Add all characters from C\n",
        "\n",
        "AUC = set(AUC) #change the list to a set removes duplicates and alphabetize\n",
        "\n",
        "AUC"
      ],
      "execution_count": null,
      "outputs": []
    },
    {
      "cell_type": "code",
      "metadata": {
        "id": "-p3pYgfHyP_H"
      },
      "source": [
        "BUC = []\n",
        "for character in B:\n",
        "  BUC.append(character) #Add all characters from B\n",
        "for character in C:\n",
        "  BUC.append(character) #Add all characters from C\n",
        "\n",
        "BUC = set(BUC) #change the list to a set removes duplicates and alphabetize\n",
        "\n",
        "BUC"
      ],
      "execution_count": null,
      "outputs": []
    },
    {
      "cell_type": "code",
      "metadata": {
        "id": "fkABJ6S_zure"
      },
      "source": [
        "ACapB = []\n",
        "for character in A:\n",
        "  if character in B:\n",
        "    ACapB.append(character)\n",
        "    \n",
        "ACapB    "
      ],
      "execution_count": null,
      "outputs": []
    },
    {
      "cell_type": "code",
      "metadata": {
        "id": "GQtLhJ3V0SJY"
      },
      "source": [
        "ACapC = []\n",
        "for character in A:\n",
        "  if character in C:\n",
        "    ACapC.append(character)\n",
        "\n",
        "ACapC    "
      ],
      "execution_count": null,
      "outputs": []
    },
    {
      "cell_type": "code",
      "metadata": {
        "id": "eoCnx2fb1FkQ"
      },
      "source": [
        "BCapC = []\n",
        "for character in B:\n",
        "  if character in C:\n",
        "    BCapC.append(character)\n",
        "\n",
        "BCapC    "
      ],
      "execution_count": null,
      "outputs": []
    },
    {
      "cell_type": "code",
      "metadata": {
        "id": "r65JdNuM4GkG"
      },
      "source": [
        "AComplement = []\n",
        "\n",
        "for character in U:\n",
        "  if character not in A:\n",
        "    AComplement.append(character)\n",
        "\n",
        "AComplement     "
      ],
      "execution_count": null,
      "outputs": []
    },
    {
      "cell_type": "code",
      "metadata": {
        "id": "8Ck8fdbB5AoE"
      },
      "source": [
        "AComplement = []\n",
        "\n",
        "for character in U:\n",
        "  if character not in B:\n",
        "    AComplement.append(character)\n",
        "\n",
        "AComplement    "
      ],
      "execution_count": null,
      "outputs": []
    },
    {
      "cell_type": "code",
      "metadata": {
        "id": "6GnMKQ6SBttn"
      },
      "source": [
        "AComplement = []\n",
        "\n",
        "for character in U:\n",
        "  if character not in C:\n",
        "    AComplement.append(character)\n",
        "\n",
        "AComplement    "
      ],
      "execution_count": null,
      "outputs": []
    },
    {
      "cell_type": "code",
      "metadata": {
        "id": "oR7L-Ad1CVx3"
      },
      "source": [
        "AComplement = []\n",
        "\n",
        "for character in U:\n",
        "  if character not in E:\n",
        "    AComplement.append(character)\n",
        "\n",
        "AComplement    "
      ],
      "execution_count": null,
      "outputs": []
    },
    {
      "cell_type": "markdown",
      "metadata": {
        "id": "v7LbmtR4DZxI"
      },
      "source": [
        "There are no subsets in the above sets. This is because a subset will have each of its elements cotained in another set. In this case, there are no sets that provide all the elements of another set."
      ]
    },
    {
      "cell_type": "code",
      "metadata": {
        "id": "BKcUuVu3FqOf"
      },
      "source": [
        "def powerset(s):\n",
        "  x = len(s)\n",
        "  masks = [2**i for i in range(x)]\n",
        "  for i in range(2**x):\n",
        "    yield [ss for mask, ss in zip(masks, s) if i & mask]\n",
        "\n",
        "print(list(powerset(A)))    "
      ],
      "execution_count": null,
      "outputs": []
    },
    {
      "cell_type": "markdown",
      "metadata": {
        "id": "LuVm3SplKt-N"
      },
      "source": [
        "The above power set of U contains 17 elements in its set. Image the subsets that this will produce. The power set equation is 2^n, in which 'n' equals the total number of elements in that set, so if I replaced 'n' with 17, the equation would be 2^17 and that would equal 131072 subsets.     "
      ]
    },
    {
      "cell_type": "markdown",
      "metadata": {
        "id": "x3Zc9zPMkcvD"
      },
      "source": [
        "F(x) = x^3 - 6x^2 + 9x + 1  \n",
        "This function has intervals of increasing and decreasing behaviors. It also has positive and negative intervals with maxima and minima.\n",
        "I need to find the values to determine where the function is decreasing and increasing. I will solve by differentiation and set it to zero.  \n",
        "\n",
        "F'(x) = 3x^2 - 12x + 9 \n",
        "\n",
        "        3(x^2 - 4x + 3) = 0\n",
        "\n",
        "        3(x - 1)(x - 3) = 0        \n",
        "\n",
        "        x = 1 and x = 3     These are my critical points\n",
        "\n",
        "        f(1) = 5 and f(3) = 1     These are my critical values\n",
        "\n",
        "When x < 1, then f'(x) is positive and is increasing the values of x. When 1 < x < 3, then f'(x) is negative and decreasing between 1 and 3. When x > 3, then f'(x) is positive and increasing the values. This function has relatlive maximum of 5 at 1 and 4 and relative minimum of 1 at 0 and 3. It is increasing on intervals [0,1] and [1,5] and decreasing on intervals [1,5] and [3,0]. \n",
        "\n",
        "This function is a one-to-one and onto, therefore it is bijective.\n"
      ]
    },
    {
      "cell_type": "code",
      "metadata": {
        "id": "9YHuQxyROcUz",
        "colab": {
          "base_uri": "https://localhost:8080/"
        },
        "outputId": "04d55d35-e693-4571-cadc-2d3de57435f0"
      },
      "source": [
        "A = ['Dog','Cat','Bird','Rabbit','Duck'] \n",
        "B = ['Charlie','Cheshire','Tweety','Peter','Duck']\n",
        "C = ['House','Cat','Sky','Burrow','Pond']\n",
        "\n",
        "dictionary = dict({a:b for a,b in zip(A, B)})\n",
        "\n",
        "dictionary "
      ],
      "execution_count": null,
      "outputs": [
        {
          "output_type": "execute_result",
          "data": {
            "text/plain": [
              "{'Bird': 'Tweety',\n",
              " 'Cat': 'Cheshire',\n",
              " 'Dog': 'Charlie',\n",
              " 'Duck': 'Duck',\n",
              " 'Rabbit': 'Peter'}"
            ]
          },
          "metadata": {},
          "execution_count": 10
        }
      ]
    },
    {
      "cell_type": "code",
      "metadata": {
        "id": "7e6ki96SQZKl"
      },
      "source": [
        "actualDictionary = dict({'Cat':'Duck','Dog':'Cheshire','Duck':'Tweety'})\n",
        "\n",
        "newList = [actualDictionary.get(x,x) for x in C] "
      ],
      "execution_count": null,
      "outputs": []
    },
    {
      "cell_type": "markdown",
      "metadata": {
        "id": "CqxvIIsdWdcu"
      },
      "source": [
        "This project was a bit difficult for me. I probably spent too much time trying to look up codes and figuring out how to use colab. I'll be getting assistance from a tutor on the next projects.    "
      ]
    }
  ]
}